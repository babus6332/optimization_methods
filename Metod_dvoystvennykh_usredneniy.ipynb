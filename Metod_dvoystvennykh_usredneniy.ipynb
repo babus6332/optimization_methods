{
 "cells": [
  {
   "cell_type": "markdown",
   "metadata": {},
   "source": [
    "# Метод двойственных усреднений\n",
    "\n",
    "## Бабушкина Татьяна, 673 группа"
   ]
  },
  {
   "cell_type": "markdown",
   "metadata": {},
   "source": [
    "Минимизируем функцию на выпуклом множестве $Q = \\mathbb{R}^{n}$\n",
    "\n",
    "Шаг метода:\n",
    "\n",
    "$$ x_{k+1} = argmin_{\\mathbb{R}^{n}} \\{ d(x) + <\\sum_{i=1}^{k} h_i \\nabla f(x_i), x>\\}$$\n",
    "\n",
    "где $d(x) = \\frac{1}{2} \\sum_{i=0}^{n} x_{i}^{2}$ -- прокс-функция"
   ]
  },
  {
   "cell_type": "markdown",
   "metadata": {},
   "source": [
    "Заметим, что $j$-ая компонента $x_{k+1}$ будет равна $- \\sum_{i=1}^{k} h_i \\nabla f(x_i)$"
   ]
  },
  {
   "cell_type": "code",
   "execution_count": 27,
   "metadata": {},
   "outputs": [],
   "source": [
    "import numpy as np\n",
    "import matplotlib.pyplot as plt\n",
    "%matplotlib inline"
   ]
  },
  {
   "cell_type": "code",
   "execution_count": 28,
   "metadata": {},
   "outputs": [],
   "source": [
    "#Вход: функция градиента оптимизирумой функции, критерий останова, шаг h_i, точка старта\n",
    "#Выход: последовательность точек x_k -- решений задачи оптимизации\n",
    "\n",
    "def DoDual (gradient, eps, step, x_start):\n",
    "    i = 0 \n",
    "    x = x_start #точка старта\n",
    "    y = 10e29\n",
    "    res = [x_start] #инициализируем массив итеррационных точек\n",
    "    grad = np.zeros(len(x_start)) #инициализуруем нулевой массив размерности начальной точки. Каждый раз обновляем вектор-градиент\n",
    "    while (np.linalg.norm (y-x, ord = 2) > eps): #условие останова\n",
    "        grad = grad + step(i) * gradient (x) #считаем градиент\n",
    "        res.append (-grad) #добавляем градиент в массив решений\n",
    "        y = x\n",
    "        x = res[i+1] #обновляем точку \n",
    "        i = i + 1 \n",
    "    return res"
   ]
  },
  {
   "cell_type": "code",
   "execution_count": 29,
   "metadata": {},
   "outputs": [],
   "source": [
    "#Определим функцию шага h_i = 1/k\n",
    "\n",
    "def step(i):\n",
    "    eig, v = np.linalg.eig (A.transpose() @ A) #вычисляем собственные числа и векторы квадратной матрицы A^{T} A\n",
    "    e = max (eig) #находим максимальное собственное число матрицы A^{T} A\n",
    "    return 1/e\n"
   ]
  },
  {
   "cell_type": "markdown",
   "metadata": {},
   "source": [
    "# Пример 1. Когда всё получилось:)"
   ]
  },
  {
   "cell_type": "markdown",
   "metadata": {},
   "source": [
    "Наша задача: тестироваться на функциях вида:\n",
    "\n",
    "$$ ||Ax - b||_{2}^{2} - \\lambda_{min} (A^{T}A) \\cdot \\frac{1}{2}||x||_{2}^{2}$$"
   ]
  },
  {
   "cell_type": "markdown",
   "metadata": {},
   "source": [
    "Градиент этой функции равен\n",
    "$$ 2 A^{T} (Ax-b) - \\lambda_{min} (A^{T}A) x$$"
   ]
  },
  {
   "cell_type": "code",
   "execution_count": 30,
   "metadata": {},
   "outputs": [],
   "source": [
    "def function(x):\n",
    "    eig, v = np.linalg.eig (A.transpose() @ A) #вычисляем собственные числа и векторы квадратной матрицы A^{T} A\n",
    "    e = min (eig) #находим минимальное собственное число матрицы A^{T} A\n",
    "    res = (np.linalg.norm((A @ x - b), ord=2))**2 - e*0.5*(np.linalg.norm(x, ord = 2))**2 #считаем значение нашей функции в точке x\n",
    "    return res"
   ]
  },
  {
   "cell_type": "code",
   "execution_count": 31,
   "metadata": {},
   "outputs": [],
   "source": [
    "#Определим градиент этой функции\n",
    "\n",
    "def gradient (x):\n",
    "    eig, v = np.linalg.eig (A.transpose() @ A) #вычисляем собственные числа и векторы квадратной матрицы A^{T} A\n",
    "    eig = min (eig) #находим минимальное собственное число матрицы A^{T} A\n",
    "    res = 2*A.transpose() @ (A @ x - b) - x * eig #считаем значение градиента в точке\n",
    "    return res"
   ]
  },
  {
   "cell_type": "code",
   "execution_count": 32,
   "metadata": {},
   "outputs": [],
   "source": [
    "#рассматриваем самый простой случай, когда вектор b - нулевой.\n",
    "#Очевидно, что в этом случае квадратичная форма имеет минимум в нуле\n",
    "\n",
    "A = np.array([[10, 2], [1, 3]])\n",
    "b = np.array([0, 0])\n",
    "x_start = np.array([0.1, 0.1])\n",
    "eps = 0.001"
   ]
  },
  {
   "cell_type": "code",
   "execution_count": 33,
   "metadata": {},
   "outputs": [],
   "source": [
    "from scipy.optimize import minimize"
   ]
  },
  {
   "cell_type": "code",
   "execution_count": 34,
   "metadata": {},
   "outputs": [
    {
     "name": "stdout",
     "output_type": "stream",
     "text": [
      "[-8.27805614e-09  1.57835973e-08]\n"
     ]
    }
   ],
   "source": [
    "res = minimize(function, np.array([0.1, 0.2]), method='BFGS') #но для уверенности проверим это\n",
    "print (res.x) #да, это действительно так"
   ]
  },
  {
   "cell_type": "code",
   "execution_count": 35,
   "metadata": {},
   "outputs": [
    {
     "name": "stdout",
     "output_type": "stream",
     "text": [
      "[array([0.1, 0.2]), array([-0.26877832, -0.07810454]), array([0.25546757, 0.05148304]), array([-0.23300191, -0.06770824]), array([0.22146292, 0.04463026]), array([-0.20198761, -0.05869577]), array([0.19198454, 0.03868964]), array([-0.17510154, -0.05088292]), array([0.16642996, 0.03353976]), array([-0.15179421, -0.04411002]), array([0.14427688, 0.02907537]), array([-0.13158926, -0.03823865]), array([0.12507255, 0.02520522]), array([-0.11407374, -0.0331488 ]), array([0.10842445, 0.02185021]), array([-0.09888967, -0.02873644]), array([0.09399234, 0.01894179]), array([-0.08572671, -0.02491141]), array([0.08148126, 0.01642049]), array([-0.07431585, -0.02159551]), array([0.07063549, 0.0142348 ]), array([-0.06442385, -0.01872099]), array([0.06123338, 0.01234004]), array([-0.05584855, -0.01622908]), array([0.05308275, 0.01069749]), array([-0.04841469, -0.01406887]), array([0.04601704, 0.00927357]), array([-0.04197033, -0.0121962 ]), array([0.03989183, 0.00803919]), array([-0.03638376, -0.01057279]), array([0.03458193, 0.00696911]), array([-0.03154081, -0.00916547]), array([0.02997881, 0.00604147]), array([-0.02734249, -0.00794548]), array([0.02598841, 0.00523731]), array([-0.023703  , -0.00688788]), array([0.02252916, 0.00454018]), array([-0.02054796, -0.00597105]), array([0.01953036, 0.00393585]), array([-0.01781287, -0.00517626]), array([0.01693072, 0.00341196]), array([-0.01544184, -0.00448726]), array([0.01467711, 0.0029578 ]), array([-0.01338642, -0.00388997]), array([0.01272348, 0.0025641 ]), array([-0.01160458, -0.00337219]), array([0.01102989, 0.0022228 ]), array([-0.01005993, -0.00292332]), array([0.00956173, 0.00192692]), array([-0.00872088, -0.00253421]), array([0.00828899, 0.00167044]), array([-0.00756006, -0.00219689]), array([0.00718566, 0.00144809]), array([-0.00655376, -0.00190446]), array([0.0062292 , 0.00125534]), array([-0.00568141, -0.00165096]), array([0.00540004, 0.00108824]), array([-0.00492517, -0.00143121]), array([0.00468126, 0.00094339]), array([-0.00426959, -0.0012407 ]), array([0.00405815, 0.00081782]), array([-0.00370128, -0.00107556]), array([0.00351798, 0.00070896]), array([-0.00320861, -0.00093239]), array([0.00304971, 0.00061459]), array([-0.00278152, -0.00080828]), array([0.00264377, 0.00053278]), array([-0.00241128, -0.0007007 ]), array([0.00229186, 0.00046187]), array([-0.00209032, -0.00060743]), array([0.0019868 , 0.00040039]), array([-0.00181208, -0.00052657]), array([0.00172234, 0.00034709]), array([-0.00157088, -0.00045648]), array([0.00149308, 0.00030089]), array([-0.00136178, -0.00039572]), array([0.00129434, 0.00026084]), array([-0.00118052, -0.00034305]), array([0.00112206, 0.00022612]), array([-0.00102338, -0.00029739]), array([0.0009727 , 0.00019602]), array([-0.00088716, -0.0002578 ]), array([0.00084323, 0.00016993]), array([-0.00076908, -0.00022349]), array([0.00073099, 0.00014731]), array([-0.00066671, -0.00019374]), array([0.00063369, 0.0001277 ]), array([-0.00057796, -0.00016795]), array([0.00054934, 0.00011071]), array([-0.00050103, -0.0001456 ]), array([4.76218715e-04, 9.59698650e-05]), array([-0.00043434, -0.00012622])]\n"
     ]
    }
   ],
   "source": [
    "x_res = DoDual(gradient, eps , step, np.array([0.1, 0.2]))\n",
    "print (x_res)"
   ]
  },
  {
   "cell_type": "code",
   "execution_count": 36,
   "metadata": {},
   "outputs": [
    {
     "data": {
      "image/png": "[encoded data removed]",
      "text/plain": [
       "<matplotlib.figure.Figure at 0x1956e2160b8>"
      ]
     },
     "metadata": {},
     "output_type": "display_data"
    },
    {
     "name": "stdout",
     "output_type": "stream",
     "text": [
      "Число итераций: 92\n"
     ]
    }
   ],
   "source": [
    "a = []\n",
    "b = []\n",
    "for x in x_res:\n",
    "    a = np.append (a, x[0])\n",
    "    b = np.append (b, x[1])\n",
    "fig, ax = plt.subplots(figsize=[15, 8])\n",
    "\n",
    "plt.scatter(a, b, color = \"blue\", label = \"My Method\")\n",
    "plt.scatter(0.0, 0.0, label = \"real solution\", color = \"red\")\n",
    "plt.scatter(x_start[0], x_start[1], label = \"start point\", color = \"brown\")\n",
    "plt.title(\"Function\")\n",
    "plt.legend(loc = 'best')\n",
    "ax.grid('True')\n",
    "plt.show()\n",
    "\n",
    "print ('Число итераций:', len(x_res))"
   ]
  },
  {
   "cell_type": "markdown",
   "metadata": {
    "scrolled": true
   },
   "source": [
    "# Пример 2. Простой пример, когда всё хорошо"
   ]
  },
  {
   "cell_type": "markdown",
   "metadata": {},
   "source": [
    "$$ ||Ax - b||_{2}^{2}$$\n",
    "Градиент этой функции равен\n",
    "$$ 2 A^{T} (Ax-b)$$"
   ]
  },
  {
   "cell_type": "code",
   "execution_count": 37,
   "metadata": {},
   "outputs": [],
   "source": [
    "def func(x):\n",
    "    res = np.linalg.norm((A @ x - b), ord = 2)**2\n",
    "    return res"
   ]
  },
  {
   "cell_type": "code",
   "execution_count": 38,
   "metadata": {},
   "outputs": [],
   "source": [
    "def gradient(x) :\n",
    "    res = 2*A.transpose() @ (A @ x - b)\n",
    "    return res"
   ]
  },
  {
   "cell_type": "code",
   "execution_count": 39,
   "metadata": {},
   "outputs": [],
   "source": [
    "#Определим функцию шага h_i = 1/k\n",
    "\n",
    "def step(i):\n",
    "    return 0.05\n",
    "\n",
    "#Если брать шаг 1/k, то решение сходится к неверному ответу"
   ]
  },
  {
   "cell_type": "code",
   "execution_count": 40,
   "metadata": {},
   "outputs": [],
   "source": [
    "A = np.array([[2, 2], [1, 3]])\n",
    "b = np.array([1, 1])\n",
    "x_start = np.array([0.1, 0.1])\n",
    "eps = 0.0001"
   ]
  },
  {
   "cell_type": "code",
   "execution_count": 41,
   "metadata": {},
   "outputs": [
    {
     "name": "stdout",
     "output_type": "stream",
     "text": [
      "[0.25000001 0.24999999]\n"
     ]
    }
   ],
   "source": [
    "res = minimize(func, np.array([0.1, 0.2]), method='BFGS')\n",
    "print (res.x) #минимум в точке (0.25, 0.25)"
   ]
  },
  {
   "cell_type": "code",
   "execution_count": 42,
   "metadata": {},
   "outputs": [
    {
     "name": "stdout",
     "output_type": "stream",
     "text": [
      "[array([0.1, 0.1]), array([0.18, 0.3 ]), array([0.18 , 0.284]), array([0.1912, 0.2888]), array([0.19344, 0.27952]), array([0.201056, 0.280736]), array([0.2040128, 0.27504  ]), array([0.2094784 , 0.27467904]), array([0.21246387, 0.27096141]), array([0.21655895, 0.26998687]), array([0.21928867, 0.26741267]), array([0.22245546, 0.26627413]), array([0.22483584, 0.26439894]), array([0.22733866, 0.26329523]), array([0.22936267, 0.26187437]), array([0.23136928, 0.26088382]), array([0.23306596, 0.25977636]), array([0.23468953, 0.25892092]), array([0.23610012, 0.25804105]), array([0.23742132, 0.2573176 ]), array([0.23858834, 0.25660979]), array([0.23966732, 0.25600522]), array([0.24063   , 0.25543131]), array([0.24151308, 0.2549296 ]), array([0.24230582, 0.25446196]), array([0.24302954, 0.25404734]), array([0.24368163, 0.25366512]), array([0.24427523, 0.25332332]), array([0.24481129, 0.25301034]), array([0.24529841, 0.25272899]), array([0.24573891, 0.25247242]), array([0.24613876, 0.25224104]), array([0.24650065, 0.25203056]), array([0.24682894, 0.25184038]), array([0.24712621, 0.25166763]), array([0.24739576, 0.25151137]), array([0.24763992, 0.25136956]), array([0.24786127, 0.25124119]), array([0.24806181, 0.25112475]), array([0.24824357, 0.25101931]), array([0.24840827, 0.2509237 ]), array([0.24855754, 0.2508371 ]), array([0.2486928 , 0.25075859]), array([0.24881539, 0.25068746]), array([0.24892647, 0.25062299]), array([0.24902714, 0.25056457]), array([0.24911837, 0.25051163]), array([0.24920104, 0.25046365])]\n"
     ]
    }
   ],
   "source": [
    "x_res = DoDual(gradient, eps , step, x_start)\n",
    "print (x_res)\n",
    "#решение сошлось к нужной точке"
   ]
  },
  {
   "cell_type": "code",
   "execution_count": 43,
   "metadata": {},
   "outputs": [],
   "source": [
    "a = []\n",
    "b = []\n",
    "for x in x_res:\n",
    "    a = np.append (a, x[0])\n",
    "    b = np.append (b, x[1])"
   ]
  },
  {
   "cell_type": "code",
   "execution_count": 44,
   "metadata": {},
   "outputs": [
    {
     "data": {
      "image/png": "[encoded data removed]",
      "text/plain": [
       "<matplotlib.figure.Figure at 0x1956dda05f8>"
      ]
     },
     "metadata": {},
     "output_type": "display_data"
    },
    {
     "name": "stdout",
     "output_type": "stream",
     "text": [
      "Число итераций: 48\n"
     ]
    }
   ],
   "source": [
    "fig, ax = plt.subplots(figsize=[15, 8])\n",
    "\n",
    "plt.scatter(a, b, color = \"blue\", label = \"My Method\")\n",
    "plt.scatter(0.25, 0.25, label = \"real solution\", color = \"red\")\n",
    "plt.scatter(x_start[0], x_start[1], label = \"start point\", color = \"brown\")\n",
    "plt.title(\"Function\")\n",
    "plt.legend(loc = 'best')\n",
    "ax.grid('True')\n",
    "plt.show()\n",
    "\n",
    "print ('Число итераций:', len(x_res))"
   ]
  },
  {
   "cell_type": "markdown",
   "metadata": {},
   "source": [
    "# Вывод:"
   ]
  },
  {
   "cell_type": "markdown",
   "metadata": {},
   "source": [
    "Был реализован метод двойственных усреднений, исследован на сходимость и характер приближения к решению на выпуклом множестве $Q = \\mathbb{R}^{n}$\n",
    "\n",
    "где шаг метода:\n",
    "\n",
    "$$ x_{k+1} = argmin_{\\mathbb{R}^{n}} \\{ d(x) + <\\sum_{i=1}^{k} h_i \\nabla f(x_i), x>\\}$$\n",
    "\n",
    "и $d(x) = \\frac{1}{2} \\sum_{i=0}^{n} x_{i}^{2}$ -- прокс-функция.\n",
    "\n",
    "\n",
    "Мы исследовали сходимость для функции вида $$ ||Ax - b||_{2}^{2} - \\lambda_{min} (A^{T}A) \\cdot \\frac{1}{2}||x||_{2}^{2}$$ на множестве $Q = \\mathbb{R}^{n}$."
   ]
  },
  {
   "cell_type": "code",
   "execution_count": null,
   "metadata": {},
   "outputs": [],
   "source": []
  },
  {
   "cell_type": "code",
   "execution_count": null,
   "metadata": {},
   "outputs": [],
   "source": []
  }
 ],
 "metadata": {
  "kernelspec": {
   "display_name": "Python 3",
   "language": "python",
   "name": "python3"
  },
  "language_info": {
   "codemirror_mode": {
    "name": "ipython",
    "version": 3
   },
   "file_extension": ".py",
   "mimetype": "text/x-python",
   "name": "python",
   "nbconvert_exporter": "python",
   "pygments_lexer": "ipython3",
   "version": "3.6.4"
  }
 },
 "nbformat": 4,
 "nbformat_minor": 2
}
